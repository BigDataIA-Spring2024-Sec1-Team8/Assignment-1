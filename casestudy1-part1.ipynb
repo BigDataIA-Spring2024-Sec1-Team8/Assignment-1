{
  "nbformat": 4,
  "nbformat_minor": 0,
  "metadata": {
    "colab": {
      "provenance": []
    },
    "kernelspec": {
      "name": "python3",
      "display_name": "Python 3"
    },
    "language_info": {
      "name": "python"
    }
  },
  "cells": [
    {
      "cell_type": "code",
      "execution_count": null,
      "metadata": {
        "colab": {
          "base_uri": "https://localhost:8080/"
        },
        "id": "Lo7VaicNaP-P",
        "outputId": "5af2df81-2b3e-4dc8-bd2c-7cad99a91a82"
      },
      "outputs": [
        {
          "output_type": "stream",
          "name": "stdout",
          "text": [
            "Requirement already satisfied: diagrams in /usr/local/lib/python3.10/dist-packages (0.23.4)\n",
            "Requirement already satisfied: graphviz<0.21.0,>=0.13.2 in /usr/local/lib/python3.10/dist-packages (from diagrams) (0.20.1)\n",
            "Requirement already satisfied: jinja2<4.0,>=2.10 in /usr/local/lib/python3.10/dist-packages (from diagrams) (3.1.3)\n",
            "Requirement already satisfied: typed-ast<2.0.0,>=1.5.4 in /usr/local/lib/python3.10/dist-packages (from diagrams) (1.5.5)\n",
            "Requirement already satisfied: MarkupSafe>=2.0 in /usr/local/lib/python3.10/dist-packages (from jinja2<4.0,>=2.10->diagrams) (2.1.4)\n"
          ]
        }
      ],
      "source": [
        "!pip install diagrams\n",
        "\n",
        "from diagrams import Diagram\n",
        "from diagrams.aws.compute import EC2\n",
        "from diagrams.aws.database import RDS\n",
        "from diagrams.aws.network import ELB"
      ]
    },
    {
      "cell_type": "code",
      "source": [],
      "metadata": {
        "id": "ON5KTYmdau4S"
      },
      "execution_count": null,
      "outputs": []
    },
    {
      "cell_type": "code",
      "source": [
        "from  diagrams.generic.device import Tablet\n",
        "from diagrams.aws.iot import IotAnalyticsDataStore\n",
        "from diagrams.aws.compute import EC2\n",
        "from diagrams import Cluster, Diagram\n",
        "from diagrams.aws.ml import SagemakerModel\n",
        "from diagrams.aws.database import Aurora\n",
        "from diagrams.aws.analytics import Quicksight\n",
        "from diagrams.aws.database import RDS\n",
        "from diagrams.aws.compute import LambdaFunction\n",
        "from diagrams.aws.management import CloudwatchEventTimeBased\n",
        "from diagrams.aws.compute import Lambda\n",
        "from diagrams.aws.ml import SagemakerNotebook\n",
        "\n",
        "\n",
        "with Diagram(\"Architecture Diagram - use case 1\", show=False):\n",
        "\n",
        "  # with Cluster(\"Services\"):\n",
        "  with Cluster(\"Email Service\"):\n",
        "      data_fetcher = Lambda(\"em data fetcher\")\n",
        "      email_feature_generator = Lambda(\"em feature generator\")\n",
        "      data_fetcher - email_feature_generator\n",
        "      # email_group = [df,efg]\n",
        "\n",
        "  with Cluster(\"Phone Service\"):\n",
        "      data_ph_fetch = Lambda(\"ph data fetcher\")\n",
        "      ph_f_gen = Lambda(\"ph feature generator\")\n",
        "      data_ph_fetch - ph_f_gen\n",
        "\n",
        "  with Cluster(\"CreditHeader Service\"):\n",
        "      dcf = Lambda(\"CH fetcher\")\n",
        "      cfg = Lambda(\"CH feature generator\")\n",
        "      dcf - cfg\n",
        "\n",
        "\n",
        "  fcs =  EC2(\"Feature collection service\")\n",
        "  feature_Store = IotAnalyticsDataStore(\"feature store\")\n",
        "  mts = SagemakerNotebook(\"model trainer\")\n",
        "  artifacts = SagemakerModel(\"Artifacts\")\n",
        "  mlapp =  EC2(\"Ml service\")\n",
        "  main =  EC2(\"App\")\n",
        "  customerdata = RDS(\"Central Data\")\n",
        "  customerdatarecent =  Aurora(\"New Data\")\n",
        "  data_integration_service =  LambdaFunction(\"Data Integration Service\")\n",
        "  schecduler = CloudwatchEventTimeBased(\"schecduler\")\n",
        "\n",
        "  Tablet(\"user info\") >> main >> fcs\n",
        "\n",
        "  fcs>>data_fetcher\n",
        "  fcs>>data_ph_fetch\n",
        "  fcs>>dcf\n",
        "\n",
        "  cfg >> feature_Store\n",
        "  email_feature_generator >> feature_Store\n",
        "  ph_f_gen >> feature_Store\n",
        "\n",
        "  mts >> feature_Store\n",
        "  mts >> artifacts\n",
        "  mlapp >> artifacts\n",
        "  mlapp >> main\n",
        "  fcs >> mlapp\n",
        "  main >> customerdatarecent\n",
        "  schecduler >> data_integration_service\n",
        "  customerdatarecent >> data_integration_service\n",
        "  data_integration_service >> customerdata\n",
        "  data_integration_service >> mts\n"
      ],
      "metadata": {
        "id": "eet-7Ynadzue"
      },
      "execution_count": null,
      "outputs": []
    },
    {
      "cell_type": "code",
      "source": [
        "from  diagrams.generic.device import Tablet\n",
        "from diagrams.aws.iot import IotAnalyticsDataStore\n",
        "from diagrams.aws.compute import EC2\n",
        "from diagrams import Cluster, Diagram\n",
        "from diagrams.aws.ml import SagemakerModel\n",
        "from diagrams.aws.database import Aurora\n",
        "from diagrams.aws.analytics import Quicksight\n",
        "\n",
        "with Diagram(\"Inference pipeline\", show=False):\n",
        "  with Cluster(\"Email Service\"):\n",
        "      df = Lambda(\"em data fetcher\")\n",
        "      efg = Lambda(\"em feature generator\")\n",
        "      df - efg\n",
        "\n",
        "  with Cluster(\"Phone Service\"):\n",
        "      dpf = Lambda(\"ph data fetcher\")\n",
        "      pfg = Lambda(\"ph feature generator\")\n",
        "      dpf - pfg\n",
        "\n",
        "  with Cluster(\"CreditHeader Service\"):\n",
        "      dcf = Lambda(\"CH fetcher\")\n",
        "      cfg = Lambda(\"CH feature generator\")\n",
        "      dcf - cfg\n",
        "\n",
        "  fcs =  EC2(\"Feature fetcher\")\n",
        "  artifacts = SagemakerModel(\"Artifacts\")\n",
        "  mlapp =  EC2(\"Ml service\")\n",
        "  main =  EC2(\"App\")\n",
        "  customerdatarecent =  Aurora(\"New Data\")\n",
        "\n",
        "  Tablet(\"user info\") >> main >> fcs\n",
        "  fcs>>df\n",
        "  fcs>>dpf\n",
        "  fcs>>dcf\n",
        "\n",
        "  mlapp >> artifacts\n",
        "  mlapp >> main\n",
        "  fcs >> mlapp\n",
        "  main >> customerdatarecent\n",
        ""
      ],
      "metadata": {
        "id": "vV9uVUzQdzln"
      },
      "execution_count": null,
      "outputs": []
    },
    {
      "cell_type": "code",
      "source": [],
      "metadata": {
        "id": "2Rm8AGquCD98"
      },
      "execution_count": null,
      "outputs": []
    },
    {
      "cell_type": "code",
      "source": [
        "from  diagrams.generic.device import Tablet\n",
        "from diagrams.aws.iot import IotAnalyticsDataStore\n",
        "from diagrams.aws.compute import EC2\n",
        "from diagrams import Cluster, Diagram\n",
        "from diagrams.aws.ml import SagemakerModel\n",
        "from diagrams.aws.database import Aurora\n",
        "from diagrams.aws.analytics import Quicksight\n",
        "from diagrams.aws.ml import SagemakerNotebook\n",
        "\n",
        "\n",
        "with Diagram(\"Updating Model pipeline\", show=False):\n",
        "  with Cluster(\"Email Service\"):\n",
        "      df = Lambda(\"em data fetcher\")\n",
        "      efg = Lambda(\"em feature generator\")\n",
        "      df - efg\n",
        "      # email_group = [df,efg]\n",
        "\n",
        "  with Cluster(\"Phone Service\"):\n",
        "      dpf = Lambda(\"ph data fetcher\")\n",
        "      pfg = Lambda(\"ph feature generator\")\n",
        "      dpf - pfg\n",
        "\n",
        "  with Cluster(\"CreditHeader Service\"):\n",
        "      dcf = Lambda(\"CH fetcher\")\n",
        "      cfg = Lambda(\"CH feature generator\")\n",
        "      dcf - cfg\n",
        "\n",
        "  fcs =  EC2(\"Feature fetcher\")\n",
        "  schecduler = CloudwatchEventTimeBased(\"schecduler\")\n",
        "\n",
        "  feature_Store = IotAnalyticsDataStore(\"feature store\")\n",
        "  mts = SagemakerNotebook(\"Model Trainer\")\n",
        "  artifacts = SagemakerModel(\"Artifacts\")\n",
        "  customerdata = RDS(\"Central Data\")\n",
        "  customerdatarecent =  Aurora(\"New Data\")\n",
        "  data_integration_service =  EC2(\"Integration Service\")\n",
        "\n",
        "  fcs>>df\n",
        "  fcs>>dpf\n",
        "  fcs>>dcf\n",
        "\n",
        "  cfg >> feature_Store\n",
        "  efg >> feature_Store\n",
        "  pfg >> feature_Store\n",
        "  mts >> feature_Store\n",
        "  mts >> artifacts\n",
        "  schecduler >> data_integration_service\n",
        "  customerdatarecent >> data_integration_service\n",
        "  data_integration_service >> customerdata\n",
        "  data_integration_service >> mts\n",
        "  data_integration_service >> fcs\n",
        "\n"
      ],
      "metadata": {
        "id": "dLY5CT-pdzaC"
      },
      "execution_count": null,
      "outputs": []
    },
    {
      "cell_type": "code",
      "source": [
        "# P2"
      ],
      "metadata": {
        "id": "zUxdmMSwCFa8"
      },
      "execution_count": null,
      "outputs": []
    },
    {
      "cell_type": "code",
      "source": [],
      "metadata": {
        "id": "eMI1XivECFXf"
      },
      "execution_count": null,
      "outputs": []
    },
    {
      "cell_type": "code",
      "source": [],
      "metadata": {
        "id": "hAo-_tYWCFUm"
      },
      "execution_count": null,
      "outputs": []
    },
    {
      "cell_type": "code",
      "source": [],
      "metadata": {
        "id": "6981cJLJCFRe"
      },
      "execution_count": null,
      "outputs": []
    },
    {
      "cell_type": "code",
      "source": [],
      "metadata": {
        "id": "AHFXdnLzCFOI"
      },
      "execution_count": null,
      "outputs": []
    }
  ]
}
